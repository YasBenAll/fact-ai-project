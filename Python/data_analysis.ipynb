{
 "cells": [
  {
   "cell_type": "code",
   "execution_count": 4,
   "metadata": {},
   "outputs": [
    {
     "name": "stdout",
     "output_type": "stream",
     "text": [
      "dict_keys(['iclr_adult_antag_ds_rl_di', 'iclr_adult_antag_ds_rl_dp', 'iclr_adult_antag_ds_rl_eodds', 'iclr_adult_antag_ds_rl_eopp', 'iclr_adult_antag_ds_rl_pe', 'iclr_adult_fixed_ds_rl_di', 'iclr_adult_fixed_ds_rl_dp', 'iclr_adult_fixed_ds_rl_eodds', 'iclr_adult_fixed_ds_rl_eopp', 'iclr_adult_fixed_ds_rl_pe', 'iclr_brazil_antag_ds_rl_di', 'iclr_brazil_antag_ds_rl_dp', 'iclr_brazil_antag_ds_rl_eodds', 'iclr_brazil_antag_ds_rl_eopp', 'iclr_brazil_antag_ds_rl_pe', 'iclr_brazil_fixed_ds_rl_di', 'iclr_brazil_fixed_ds_rl_dp', 'iclr_brazil_fixed_ds_rl_eodds', 'iclr_brazil_fixed_ds_rl_eopp', 'iclr_brazil_fixed_ds_rl_pe'])\n"
     ]
    }
   ],
   "source": [
    "import pandas as pd\n",
    "import os\n",
    "from collections import defaultdict\n",
    "import numpy as np\n",
    "\n",
    "path = os.path.join(\"statistics\", \"data\")\n",
    "example = os.listdir(path)[0]\n",
    "df_dict = {}\n",
    "for file in os.listdir(path):\n",
    "    df_dict[file[:-5]]=pd.read_json(os.path.join(path,file), orient=\"records\")\n",
    "print(df_dict.keys())"
   ]
  },
  {
   "cell_type": "markdown",
   "metadata": {},
   "source": [
    "# Check whether on average no loss in accuracy and amount of solutions found is visible for shifty when compared to other models"
   ]
  },
  {
   "cell_type": "code",
   "execution_count": 5,
   "metadata": {},
   "outputs": [
    {
     "name": "stderr",
     "output_type": "stream",
     "text": [
      "<ipython-input-5-cf2bf426603d>:51: RuntimeWarning: invalid value encountered in double_scalars\n",
      "  dd[algo][f\"{var}_mean\"] = d[algo][var]/d[algo][f\"{var}_count\"]\n"
     ]
    }
   ],
   "source": [
    "df_ex = df_dict[\"iclr_adult_fixed_ds_rl_dp\"].copy()\n",
    "pprint_map = {\n",
    "    'SC'              : 'Seldonian',\n",
    "    'QSC'             : 'Quasi-Seldonian',\n",
    "    'SRC'             : 'Seldonian$_{GDS}$',\n",
    "    'QSRC'            : 'Shifty',\n",
    "    'FairlearnSVC'    : 'Fairlearn',\n",
    "    'LinSVC'          : 'Baseline', #'SVC$_{linear}$',\n",
    "    'SGD' \t          : 'Baseline', #'SGD',\n",
    "    'SGD(hinge)'      : 'SGD$_{hinge}$',\n",
    "    'SGD(log)' \t      : 'SGD$_{log}$',\n",
    "    'SGD(perceptron)' : 'SGD$_{perc}$',\n",
    "    'SVC' \t          : 'SVC$_{rbf}$',\n",
    "    'FairConst'       : 'Fairness Constraints',\n",
    "    'FairRobust'      : 'RFLearn'\n",
    "}\n",
    "\n",
    "df_ex[\"name\"]=df_ex[\"name\"].map(pprint_map)\n",
    "deployed = defaultdict(list)\n",
    "original = defaultdict(list)\n",
    "\n",
    "def get_algo_dict():\n",
    "    return defaultdict(dict)\n",
    "var_dict = defaultdict(get_algo_dict)\n",
    "\n",
    "columns = [\"original_nsf\", \"original_acc_mean\", \"antagonist_acc_mean\", \"original_g_mean\", \"antagonist_g_mean\"]\n",
    "\n",
    "for dataset_constraint in df_dict:\n",
    "    for algo in df_ex['name'].unique():\n",
    "        df = df_dict[dataset_constraint].copy()\n",
    "        df[\"name\"]=df[\"name\"].map(pprint_map)\n",
    "\n",
    "        # pick algo\n",
    "        df_model = df[df['name']==algo].copy()\n",
    "\n",
    "        for var in columns:\n",
    "            var_dict[dataset_constraint][algo][var] = [df_model[var].sum(),len(df_model[var])-df_model[var].isna().sum()] # Add values for calculating mean for var in constraint for certain model\n",
    "\n",
    "        # diff\n",
    "        for var in [\"original_acc_mean\", \"antagonist_acc_mean\"]:\n",
    "            x = float(df_model.iloc[-1][var]-df_model.iloc[0][var])\n",
    "            var_diff = f\"{var}_diff\"\n",
    "            var_dict[dataset_constraint][algo][var_diff]= x # Calculate difference between first and last epoch for var in constraint for certain model\n",
    "\n",
    "adult_antag =  defaultdict(dict)\n",
    "adult_fixed =  defaultdict(dict)\n",
    "brazil_antag = defaultdict(dict)\n",
    "brazil_fixed = defaultdict(dict)\n",
    "\n",
    "def create_mean(d):\n",
    "    dd = defaultdict(get_algo_dict)\n",
    "    for algo in df_ex['name'].unique():  \n",
    "        for var in  columns:\n",
    "            dd[algo][f\"{var}_mean\"] = d[algo][var]/d[algo][f\"{var}_count\"]\n",
    "    return dd\n",
    "\n",
    "def create_dict(d, data, type):\n",
    "    d = defaultdict(get_algo_dict)\n",
    "    for dataset in [i for i in var_dict if data in i]:\n",
    "        if type in dataset:\n",
    "            for algo in df_ex['name'].unique():   \n",
    "                for var in columns:\n",
    "                    d[algo][var] = var_dict[dataset][algo][var][0]\n",
    "                    d[algo][f\"{var}_count\"] = var_dict[dataset][algo][var][1]\n",
    "    dd = create_mean(d)\n",
    "    return dd\n",
    "\n",
    "for dataset in var_dict[\"iclr_adult_fixed_ds_rl_dp\"]:\n",
    "    adult_antag = create_dict(adult_antag, \"adult\", \"antag\")\n",
    "    adult_fixed = create_dict(adult_antag, \"adult\", \"fixed\")\n",
    "    brazil_antag = create_dict(adult_antag, \"brazil\", \"antag\")\n",
    "    brazil_fixed = create_dict(adult_antag, \"brazil\", \"fixed\")\n",
    "\n"
   ]
  },
  {
   "cell_type": "code",
   "execution_count": 6,
   "metadata": {},
   "outputs": [
    {
     "name": "stdout",
     "output_type": "stream",
     "text": [
      "adult_antag\n",
      "\\begin{tabular}{lrrr}\n",
      "\\toprule\n",
      "{} &  original\\_nsf\\_mean &  original\\_acc\\_mean\\_mean &  antagonist\\_acc\\_mean\\_mean \\\\\n",
      "\\midrule\n",
      "Fairness Constraints &              0.000 &                   0.807 &                     0.788 \\\\\n",
      "RFLearn              &              0.000 &                   0.810 &                     0.788 \\\\\n",
      "Fairlearn            &              0.000 &                   0.806 &                     0.783 \\\\\n",
      "Quasi-Seldonian      &              0.062 &                   0.807 &                     0.786 \\\\\n",
      "Shifty               &              0.312 &                   0.802 &                     0.788 \\\\\n",
      "Seldonian            &              0.583 &                   0.791 &                     0.785 \\\\\n",
      "\\bottomrule\n",
      "\\end{tabular}\n",
      "\n",
      "adult_fixed\n",
      "\\begin{tabular}{lrrr}\n",
      "\\toprule\n",
      "{} &  original\\_nsf\\_mean &  original\\_acc\\_mean\\_mean &  antagonist\\_acc\\_mean\\_mean \\\\\n",
      "\\midrule\n",
      "Fairness Constraints &              0.000 &                   0.807 &                     0.783 \\\\\n",
      "RFLearn              &              0.000 &                   0.810 &                     0.786 \\\\\n",
      "Fairlearn            &              0.000 &                   0.806 &                     0.781 \\\\\n",
      "Quasi-Seldonian      &              0.400 &                   0.788 &                     0.762 \\\\\n",
      "Shifty               &              0.662 &                   0.785 &                     0.760 \\\\\n",
      "Seldonian            &              1.000 &                     NaN &                       NaN \\\\\n",
      "\\bottomrule\n",
      "\\end{tabular}\n",
      "\n",
      "brazil_antag\n",
      "\\begin{tabular}{lrrr}\n",
      "\\toprule\n",
      "{} &  original\\_nsf\\_mean &  original\\_acc\\_mean\\_mean &  antagonist\\_acc\\_mean\\_mean \\\\\n",
      "\\midrule\n",
      "Fairness Constraints &              0.000 &                   0.616 &                     0.612 \\\\\n",
      "RFLearn              &              0.000 &                   0.637 &                     0.649 \\\\\n",
      "Fairlearn            &              0.000 &                   0.640 &                     0.648 \\\\\n",
      "Quasi-Seldonian      &              0.158 &                   0.642 &                     0.653 \\\\\n",
      "Shifty               &              0.925 &                   0.613 &                     0.632 \\\\\n",
      "Seldonian            &              0.500 &                   0.611 &                     0.623 \\\\\n",
      "\\bottomrule\n",
      "\\end{tabular}\n",
      "\n",
      "brazil_fixed\n",
      "\\begin{tabular}{lrrr}\n",
      "\\toprule\n",
      "{} &  original\\_nsf\\_mean &  original\\_acc\\_mean\\_mean &  antagonist\\_acc\\_mean\\_mean \\\\\n",
      "\\midrule\n",
      "Fairness Constraints &              0.000 &                   0.616 &                     0.613 \\\\\n",
      "RFLearn              &              0.000 &                   0.636 &                     0.649 \\\\\n",
      "Fairlearn            &              0.000 &                   0.640 &                     0.650 \\\\\n",
      "Quasi-Seldonian      &              0.091 &                   0.643 &                     0.652 \\\\\n",
      "Shifty               &              0.909 &                   0.614 &                     0.624 \\\\\n",
      "Seldonian            &              0.480 &                   0.617 &                     0.623 \\\\\n",
      "\\bottomrule\n",
      "\\end{tabular}\n",
      "\n"
     ]
    }
   ],
   "source": [
    "def display_df(name ,dict_constraint):\n",
    "    df = pd.DataFrame(dict_constraint).T\n",
    "    df = df[[\"original_nsf_mean\", \"original_acc_mean_mean\", \"antagonist_acc_mean_mean\"]].iloc[0:-1]\n",
    "    print(name)\n",
    "    # display(df)\n",
    "    print(df.round(3).to_latex())\n",
    "\n",
    "display_df(\"adult_antag\", adult_antag)\n",
    "display_df(\"adult_fixed\", adult_fixed)\n",
    "display_df(\"brazil_antag\", brazil_antag)\n",
    "display_df(\"brazil_fixed\", brazil_fixed)\n"
   ]
  },
  {
   "cell_type": "code",
   "execution_count": null,
   "metadata": {},
   "outputs": [],
   "source": []
  }
 ],
 "metadata": {
  "kernelspec": {
   "display_name": "base",
   "language": "python",
   "name": "python3"
  },
  "language_info": {
   "codemirror_mode": {
    "name": "ipython",
    "version": 3
   },
   "file_extension": ".py",
   "mimetype": "text/x-python",
   "name": "python",
   "nbconvert_exporter": "python",
   "pygments_lexer": "ipython3",
   "version": "3.9.5"
  },
  "orig_nbformat": 4,
  "vscode": {
   "interpreter": {
    "hash": "023a641bc30c0767e0627bcf1a13af4b401a241c50ce9d3b74298d2472a9444f"
   }
  }
 },
 "nbformat": 4,
 "nbformat_minor": 2
}
